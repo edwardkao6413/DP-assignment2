{
 "cells": [
  {
   "cell_type": "code",
   "execution_count": 1,
   "id": "b38fe13a-f617-4e61-8ac0-edbaa02a7027",
   "metadata": {
    "tags": []
   },
   "outputs": [],
   "source": [
    "import pandas as pd\n",
    "import numpy as np\n",
    "pd.set_option('display.max_columns', 150)\n",
    "pd.set_option('display.max_rows', 500)\n",
    "import tabula\n",
    "from pandasql import sqldf\n",
    "import math\n",
    "from scipy.stats import chi2\n",
    "from scipy import stats\n",
    "from matplotlib import pyplot as plt\n",
    "import statsmodels.api as sm\n",
    "from statsmodels.stats.multicomp import pairwise_tukeyhsd\n",
    "from scipy.stats import tukey_hsd\n",
    "import pingouin as pg"
   ]
  },
  {
   "cell_type": "code",
   "execution_count": 2,
   "id": "91d1c102-9e2e-48ea-87ac-8dcdfa7c5a9e",
   "metadata": {
    "tags": []
   },
   "outputs": [],
   "source": [
    "# import dataset\n",
    "titles = pd.read_csv(r\"C:\\Users\\edwar\\Desktop\\Melbourne\\semester1\\elements_of_data_processing\\assignment2\\titles.csv\")\n",
    "movie_data_v1 = pd.read_csv(r\"C:\\Users\\edwar\\Desktop\\Melbourne\\semester1\\elements_of_data_processing\\assignment2\\movie_data_intactversion.csv\")\n",
    "credits = pd.read_csv(r\"C:\\Users\\edwar\\Desktop\\Melbourne\\semester1\\elements_of_data_processing\\assignment2\\credits.csv\")"
   ]
  },
  {
   "cell_type": "code",
   "execution_count": 5,
   "id": "4f8f7589-db0d-484b-85c4-67fe50289588",
   "metadata": {
    "tags": []
   },
   "outputs": [
    {
     "data": {
      "text/plain": [
       "TV-MA    883\n",
       "R        556\n",
       "TV-14    474\n",
       "PG-13    451\n",
       "PG       233\n",
       "TV-PG    188\n",
       "G        124\n",
       "TV-Y7    120\n",
       "TV-Y     107\n",
       "TV-G      79\n",
       "NC-17     16\n",
       "Name: age_certification, dtype: int64"
      ]
     },
     "execution_count": 5,
     "metadata": {},
     "output_type": "execute_result"
    }
   ],
   "source": [
    "# see the number of instances for each category of age certification\n",
    "titles['age_certification'].value_counts()"
   ]
  },
  {
   "cell_type": "code",
   "execution_count": 4,
   "id": "2395fb83-756b-4689-836d-5c5eeb1b996b",
   "metadata": {
    "tags": []
   },
   "outputs": [],
   "source": [
    "# delete some vaiables\n",
    "movie_data_abb = movie_data_v1.iloc[:, :6]\n",
    "\n",
    "# split dataset\n",
    "movie_data_age = movie_data_abb[['age_certification', 'tmdb_popularity']]\n",
    "movie_data_genres = movie_data_abb[['genres', 'tmdb_popularity', 'imdb_votes']]"
   ]
  },
  {
   "cell_type": "code",
   "execution_count": null,
   "id": "60cb274a-fdb3-4acf-9a7e-3f5143505cd9",
   "metadata": {},
   "outputs": [],
   "source": []
  },
  {
   "cell_type": "markdown",
   "id": "4a9de063-7eb0-40b8-b18c-fec71259e5c8",
   "metadata": {},
   "source": [
    "### age_certification vs popularity"
   ]
  },
  {
   "cell_type": "code",
   "execution_count": 5,
   "id": "a31acc52-7ede-459f-b428-4227fcc41c8e",
   "metadata": {
    "tags": []
   },
   "outputs": [
    {
     "name": "stderr",
     "output_type": "stream",
     "text": [
      "C:\\Users\\edwar\\AppData\\Local\\Temp\\ipykernel_13432\\3883544798.py:2: SettingWithCopyWarning: \n",
      "A value is trying to be set on a copy of a slice from a DataFrame.\n",
      "Try using .loc[row_indexer,col_indexer] = value instead\n",
      "\n",
      "See the caveats in the documentation: https://pandas.pydata.org/pandas-docs/stable/user_guide/indexing.html#returning-a-view-versus-a-copy\n",
      "  movie_data_age['tmdb_popularity_adj'] = np.log2(movie_data_age['tmdb_popularity'])\n"
     ]
    }
   ],
   "source": [
    "# using log2() to adjust the popularity\n",
    "movie_data_age['tmdb_popularity_adj'] = np.log2(movie_data_age['tmdb_popularity'])\n",
    "movie_data_age.loc[movie_data_age['tmdb_popularity_adj'] < 0, 'tmdb_popularity_adj'] = 0\n",
    "movie_data_age_v1 = movie_data_age[movie_data_age['tmdb_popularity_adj'].isna() == False].reset_index().drop(['index'], axis = 1)\n",
    "movie_data_age_v1 = movie_data_age_v1[movie_data_age_v1['age_certification'].isna() == False].reset_index().drop(['index'], axis = 1)"
   ]
  },
  {
   "cell_type": "code",
   "execution_count": 6,
   "id": "f6919e56-51bb-4f7a-b405-eb51dd9a8320",
   "metadata": {
    "tags": []
   },
   "outputs": [
    {
     "data": {
      "text/html": [
       "<div>\n",
       "<style scoped>\n",
       "    .dataframe tbody tr th:only-of-type {\n",
       "        vertical-align: middle;\n",
       "    }\n",
       "\n",
       "    .dataframe tbody tr th {\n",
       "        vertical-align: top;\n",
       "    }\n",
       "\n",
       "    .dataframe thead th {\n",
       "        text-align: right;\n",
       "    }\n",
       "</style>\n",
       "<table border=\"1\" class=\"dataframe\">\n",
       "  <thead>\n",
       "    <tr style=\"text-align: right;\">\n",
       "      <th></th>\n",
       "      <th>tmdb_popularity_adj</th>\n",
       "    </tr>\n",
       "    <tr>\n",
       "      <th>age_certification</th>\n",
       "      <th></th>\n",
       "    </tr>\n",
       "  </thead>\n",
       "  <tbody>\n",
       "    <tr>\n",
       "      <th>G</th>\n",
       "      <td>2.285004</td>\n",
       "    </tr>\n",
       "    <tr>\n",
       "      <th>NC-17</th>\n",
       "      <td>3.837902</td>\n",
       "    </tr>\n",
       "    <tr>\n",
       "      <th>PG</th>\n",
       "      <td>3.452113</td>\n",
       "    </tr>\n",
       "    <tr>\n",
       "      <th>PG-13</th>\n",
       "      <td>3.679748</td>\n",
       "    </tr>\n",
       "    <tr>\n",
       "      <th>R</th>\n",
       "      <td>4.056666</td>\n",
       "    </tr>\n",
       "    <tr>\n",
       "      <th>TV-14</th>\n",
       "      <td>3.452012</td>\n",
       "    </tr>\n",
       "    <tr>\n",
       "      <th>TV-G</th>\n",
       "      <td>3.352476</td>\n",
       "    </tr>\n",
       "    <tr>\n",
       "      <th>TV-MA</th>\n",
       "      <td>3.390366</td>\n",
       "    </tr>\n",
       "    <tr>\n",
       "      <th>TV-PG</th>\n",
       "      <td>2.793306</td>\n",
       "    </tr>\n",
       "    <tr>\n",
       "      <th>TV-Y</th>\n",
       "      <td>2.351463</td>\n",
       "    </tr>\n",
       "    <tr>\n",
       "      <th>TV-Y7</th>\n",
       "      <td>3.606185</td>\n",
       "    </tr>\n",
       "  </tbody>\n",
       "</table>\n",
       "</div>"
      ],
      "text/plain": [
       "                   tmdb_popularity_adj\n",
       "age_certification                     \n",
       "G                             2.285004\n",
       "NC-17                         3.837902\n",
       "PG                            3.452113\n",
       "PG-13                         3.679748\n",
       "R                             4.056666\n",
       "TV-14                         3.452012\n",
       "TV-G                          3.352476\n",
       "TV-MA                         3.390366\n",
       "TV-PG                         2.793306\n",
       "TV-Y                          2.351463\n",
       "TV-Y7                         3.606185"
      ]
     },
     "execution_count": 6,
     "metadata": {},
     "output_type": "execute_result"
    }
   ],
   "source": [
    "# see the mean of popularity of each age certification\n",
    "mean_summary = movie_data_age_v1.groupby(by = ['age_certification']).agg({'tmdb_popularity_adj':'mean'})\n",
    "mean_summary"
   ]
  },
  {
   "cell_type": "code",
   "execution_count": 7,
   "id": "e860f265-0e89-4b24-87ff-9827fa7d508b",
   "metadata": {
    "tags": []
   },
   "outputs": [],
   "source": [
    "# multiple testing\n",
    "def age_popu(types):\n",
    "    return np.array(movie_data_age_v1[movie_data_age_v1['age_certification'] == types].reset_index()['tmdb_popularity_adj'])\n",
    "movie_G = age_popu('G')\n",
    "movie_NC17 = age_popu('NC-17')\n",
    "movie_PG = age_popu('PG')\n",
    "movie_PG13 = age_popu('PG-13')\n",
    "movie_R = age_popu('R')\n",
    "movie_TV14 = age_popu('TV-14')\n",
    "movie_TVG = age_popu('TV-G')\n",
    "movie_TVMA = age_popu('TV-MA')\n",
    "movie_TVPG = age_popu('TV-PG')\n",
    "movie_TVY = age_popu('TV-Y')\n",
    "movie_TVY7 = age_popu('TV-Y7')"
   ]
  },
  {
   "cell_type": "code",
   "execution_count": 8,
   "id": "594c0420-cefd-49de-bd60-7c05ebead4cf",
   "metadata": {
    "tags": []
   },
   "outputs": [
    {
     "name": "stdout",
     "output_type": "stream",
     "text": [
      "F-test outcomes: p-value = 3.5653915835930953e-32\n"
     ]
    }
   ],
   "source": [
    "f_statistic, p_value = stats.f_oneway(movie_G, movie_NC17, movie_PG, movie_PG13, movie_R, movie_TV14, movie_TVG, movie_TVMA, \n",
    "                                      movie_TVPG, movie_TVY, movie_TVY7)\n",
    "print('F-test outcomes: p-value = {}'.format(p_value))"
   ]
  },
  {
   "cell_type": "code",
   "execution_count": 9,
   "id": "b131c330-7c6c-425a-82ea-5f3abcadba57",
   "metadata": {
    "tags": []
   },
   "outputs": [],
   "source": [
    "# it's statsitically significant, so we conduct post-hoc test with tuckey methods.\n",
    "tukey_results = tukey_hsd(movie_G, movie_NC17, movie_PG, movie_PG13, movie_R, movie_TV14, movie_TVG, movie_TVMA, movie_TVPG, movie_TVY, movie_TVY7)"
   ]
  },
  {
   "cell_type": "code",
   "execution_count": 10,
   "id": "9796a445-fc5b-4ae6-afe5-d471507ff7f5",
   "metadata": {
    "collapsed": true,
    "jupyter": {
     "outputs_hidden": true
    },
    "tags": []
   },
   "outputs": [
    {
     "name": "stdout",
     "output_type": "stream",
     "text": [
      "Tukey's HSD Pairwise Group Comparisons (95.0% Confidence Interval)\n",
      "Comparison  Statistic  p-value  Lower CI  Upper CI\n",
      " (0 - 1)     -1.553     0.055    -3.122     0.017\n",
      " (0 - 2)     -1.167     0.000    -1.836    -0.498\n",
      " (0 - 3)     -1.395     0.000    -2.008    -0.782\n",
      " (0 - 4)     -1.772     0.000    -2.372    -1.171\n",
      " (0 - 5)     -1.167     0.000    -1.778    -0.556\n",
      " (0 - 6)     -1.067     0.003    -1.926    -0.209\n",
      " (0 - 7)     -1.105     0.000    -1.687    -0.524\n",
      " (0 - 8)     -0.508     0.406    -1.208     0.191\n",
      " (0 - 9)     -0.066     1.000    -0.863     0.730\n",
      " (0 - 10)     -1.321     0.000    -2.089    -0.553\n",
      " (1 - 0)      1.553     0.055    -0.017     3.122\n",
      " (1 - 2)      0.386     0.999    -1.135     1.907\n",
      " (1 - 3)      0.158     1.000    -1.339     1.655\n",
      " (1 - 4)     -0.219     1.000    -1.711     1.274\n",
      " (1 - 5)      0.386     0.999    -1.111     1.882\n",
      " (1 - 6)      0.485     0.997    -1.128     2.099\n",
      " (1 - 7)      0.448     0.997    -1.037     1.932\n",
      " (1 - 8)      1.045     0.510    -0.490     2.579\n",
      " (1 - 9)      1.486     0.088    -0.095     3.068\n",
      " (1 - 10)      0.232     1.000    -1.335     1.799\n",
      " (2 - 0)      1.167     0.000     0.498     1.836\n",
      " (2 - 1)     -0.386     0.999    -1.907     1.135\n",
      " (2 - 3)     -0.228     0.906    -0.703     0.248\n",
      " (2 - 4)     -0.605     0.001    -1.065    -0.145\n",
      " (2 - 5)      0.000     1.000    -0.473     0.473\n",
      " (2 - 6)      0.100     1.000    -0.667     0.866\n",
      " (2 - 7)      0.062     1.000    -0.373     0.496\n",
      " (2 - 8)      0.659     0.012     0.076     1.242\n",
      " (2 - 9)      1.101     0.000     0.404     1.797\n",
      " (2 - 10)     -0.154     1.000    -0.818     0.510\n",
      " (3 - 0)      1.395     0.000     0.782     2.008\n",
      " (3 - 1)     -0.158     1.000    -1.655     1.339\n",
      " (3 - 2)      0.228     0.906    -0.248     0.703\n",
      " (3 - 4)     -0.377     0.045    -0.750    -0.004\n",
      " (3 - 5)      0.228     0.729    -0.162     0.617\n",
      " (3 - 6)      0.327     0.930    -0.391     1.045\n",
      " (3 - 7)      0.289     0.185    -0.052     0.630\n",
      " (3 - 8)      0.886     0.000     0.369     1.403\n",
      " (3 - 9)      1.328     0.000     0.685     1.971\n",
      " (3 - 10)      0.074     1.000    -0.533     0.680\n",
      " (4 - 0)      1.772     0.000     1.171     2.372\n",
      " (4 - 1)      0.219     1.000    -1.274     1.711\n",
      " (4 - 2)      0.605     0.001     0.145     1.065\n",
      " (4 - 3)      0.377     0.045     0.004     0.750\n",
      " (4 - 5)      0.605     0.000     0.234     0.975\n",
      " (4 - 6)      0.704     0.052    -0.003     1.412\n",
      " (4 - 7)      0.666     0.000     0.348     0.985\n",
      " (4 - 8)      1.263     0.000     0.761     1.766\n",
      " (4 - 9)      1.705     0.000     1.074     2.337\n",
      " (4 - 10)      0.450     0.341    -0.144     1.045\n",
      " (5 - 0)      1.167     0.000     0.556     1.778\n",
      " (5 - 1)     -0.386     0.999    -1.882     1.111\n",
      " (5 - 2)     -0.000     1.000    -0.473     0.473\n",
      " (5 - 3)     -0.228     0.729    -0.617     0.162\n",
      " (5 - 4)     -0.605     0.000    -0.975    -0.234\n",
      " (5 - 6)      0.100     1.000    -0.617     0.816\n",
      " (5 - 7)      0.062     1.000    -0.276     0.399\n",
      " (5 - 8)      0.659     0.002     0.144     1.174\n",
      " (5 - 9)      1.101     0.000     0.459     1.742\n",
      " (5 - 10)     -0.154     0.999    -0.759     0.451\n",
      " (6 - 0)      1.067     0.003     0.209     1.926\n",
      " (6 - 1)     -0.485     0.997    -2.099     1.128\n",
      " (6 - 2)     -0.100     1.000    -0.866     0.667\n",
      " (6 - 3)     -0.327     0.930    -1.045     0.391\n",
      " (6 - 4)     -0.704     0.052    -1.412     0.003\n",
      " (6 - 5)     -0.100     1.000    -0.816     0.617\n",
      " (6 - 7)     -0.038     1.000    -0.729     0.653\n",
      " (6 - 8)      0.559     0.454    -0.234     1.352\n",
      " (6 - 9)      1.001     0.011     0.121     1.881\n",
      " (6 - 10)     -0.254     0.997    -1.108     0.600\n",
      " (7 - 0)      1.105     0.000     0.524     1.687\n",
      " (7 - 1)     -0.448     0.997    -1.932     1.037\n",
      " (7 - 2)     -0.062     1.000    -0.496     0.373\n",
      " (7 - 3)     -0.289     0.185    -0.630     0.052\n",
      " (7 - 4)     -0.666     0.000    -0.985    -0.348\n",
      " (7 - 5)     -0.062     1.000    -0.399     0.276\n",
      " (7 - 6)      0.038     1.000    -0.653     0.729\n",
      " (7 - 8)      0.597     0.003     0.118     1.076\n",
      " (7 - 9)      1.039     0.000     0.426     1.652\n",
      " (7 - 10)     -0.216     0.982    -0.791     0.359\n",
      " (8 - 0)      0.508     0.406    -0.191     1.208\n",
      " (8 - 1)     -1.045     0.510    -2.579     0.490\n",
      " (8 - 2)     -0.659     0.012    -1.242    -0.076\n",
      " (8 - 3)     -0.886     0.000    -1.403    -0.369\n",
      " (8 - 4)     -1.263     0.000    -1.766    -0.761\n",
      " (8 - 5)     -0.659     0.002    -1.174    -0.144\n",
      " (8 - 6)     -0.559     0.454    -1.352     0.234\n",
      " (8 - 7)     -0.597     0.003    -1.076    -0.118\n",
      " (8 - 9)      0.442     0.676    -0.284     1.167\n",
      " (8 - 10)     -0.813     0.008    -1.507    -0.119\n",
      " (9 - 0)      0.066     1.000    -0.730     0.863\n",
      " (9 - 1)     -1.486     0.088    -3.068     0.095\n",
      " (9 - 2)     -1.101     0.000    -1.797    -0.404\n",
      " (9 - 3)     -1.328     0.000    -1.971    -0.685\n",
      " (9 - 4)     -1.705     0.000    -2.337    -1.074\n",
      " (9 - 5)     -1.101     0.000    -1.742    -0.459\n",
      " (9 - 6)     -1.001     0.011    -1.881    -0.121\n",
      " (9 - 7)     -1.039     0.000    -1.652    -0.426\n",
      " (9 - 8)     -0.442     0.676    -1.167     0.284\n",
      " (9 - 10)     -1.255     0.000    -2.047    -0.463\n",
      " (10 - 0)      1.321     0.000     0.553     2.089\n",
      " (10 - 1)     -0.232     1.000    -1.799     1.335\n",
      " (10 - 2)      0.154     1.000    -0.510     0.818\n",
      " (10 - 3)     -0.074     1.000    -0.680     0.533\n",
      " (10 - 4)     -0.450     0.341    -1.045     0.144\n",
      " (10 - 5)      0.154     0.999    -0.451     0.759\n",
      " (10 - 6)      0.254     0.997    -0.600     1.108\n",
      " (10 - 7)      0.216     0.982    -0.359     0.791\n",
      " (10 - 8)      0.813     0.008     0.119     1.507\n",
      " (10 - 9)      1.255     0.000     0.463     2.047\n",
      "\n"
     ]
    }
   ],
   "source": [
    "print(tukey_results)"
   ]
  },
  {
   "cell_type": "code",
   "execution_count": 103,
   "id": "99f4d920-1311-497e-b933-9ad1427c88fa",
   "metadata": {
    "tags": []
   },
   "outputs": [
    {
     "data": {
      "text/plain": [
       "<Figure size 1500x1000 with 0 Axes>"
      ]
     },
     "metadata": {},
     "output_type": "display_data"
    },
    {
     "data": {
      "image/png": "[encoded data removed]",
      "text/plain": [
       "<Figure size 1500x1000 with 1 Axes>"
      ]
     },
     "metadata": {},
     "output_type": "display_data"
    }
   ],
   "source": [
    "pop_data = [movie_G, movie_NC17, movie_PG, movie_PG13, movie_R, movie_TV14, movie_TVG, movie_TVMA, movie_TVPG, movie_TVY, movie_TVY7]\n",
    "plt.figure(figsize = (15, 10))\n",
    "label_lst = ['G', 'NC-17', 'PG', 'PG-13', 'R', 'TV-14', 'TV-G', 'TV-MA', 'TV-PG', 'TV-Y', 'TV-Y7']\n",
    "\n",
    "fig, ax = plt.subplots(figsize=(15, 10))\n",
    "pos = [i for i in range(len(pop_data))]\n",
    "\n",
    "# beautify\n",
    "boxprops = dict(linewidth = 3, color = 'black')  \n",
    "medianprops = dict(linewidth = 3, color = 'red')  \n",
    "whiskerprops = dict(linewidth = 2, color = 'gray')\n",
    "capprops = dict(linewidth = 2, color = 'gray')\n",
    "meanprops = dict(linewidth = 2, color = 'blue')\n",
    "\n",
    "\n",
    "bplot = ax.boxplot(pop_data, positions = pos, labels = label_lst, boxprops = boxprops, medianprops = medianprops, whiskerprops = whiskerprops, capprops = capprops, meanprops = meanprops)\n",
    "plt.yticks(fontsize = 12.5)\n",
    "plt.ylabel('log2(tmdb_popularity)', fontsize = 14)\n",
    "ax.grid(True, linestyle='--', alpha=0.5, axis = 'y')\n",
    "\n",
    "\n",
    "plt.xticks(fontsize = 13)\n",
    "# plt.savefig(r'C:\\Users\\edwar\\Desktop\\Melbourne\\semester1\\elements_of_data_processing\\assignment2\\fig2.jpg', dpi = 300)\n",
    "plt.show()"
   ]
  },
  {
   "cell_type": "code",
   "execution_count": null,
   "id": "409b766a-bd9e-433d-9309-79fcf9d75769",
   "metadata": {},
   "outputs": [],
   "source": []
  }
 ],
 "metadata": {
  "kernelspec": {
   "display_name": "Python 3 (ipykernel)",
   "language": "python",
   "name": "python3"
  },
  "language_info": {
   "codemirror_mode": {
    "name": "ipython",
    "version": 3
   },
   "file_extension": ".py",
   "mimetype": "text/x-python",
   "name": "python",
   "nbconvert_exporter": "python",
   "pygments_lexer": "ipython3",
   "version": "3.10.9"
  }
 },
 "nbformat": 4,
 "nbformat_minor": 5
}
