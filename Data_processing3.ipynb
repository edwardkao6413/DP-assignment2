{
 "cells": [
  {
   "cell_type": "code",
   "execution_count": 1,
   "id": "e29c0702-cb3e-4b76-8ed8-c4dc07b0ebec",
   "metadata": {
    "tags": []
   },
   "outputs": [],
   "source": [
    "import pandas as pd\n",
    "import numpy as np\n",
    "pd.set_option('display.max_columns', 150)\n",
    "pd.set_option('display.max_rows', 500)\n",
    "import tabula\n",
    "from pandasql import sqldf\n",
    "import math\n",
    "from scipy.stats import chi2\n",
    "from scipy import stats\n",
    "from matplotlib import pyplot as plt\n",
    "import statsmodels.api as sm\n",
    "from statsmodels.stats.multicomp import pairwise_tukeyhsd\n",
    "from scipy.stats import tukey_hsd\n",
    "import pingouin as pg"
   ]
  },
  {
   "cell_type": "code",
   "execution_count": 2,
   "id": "45a88042-d228-43c0-a20e-d4092d8ee680",
   "metadata": {
    "tags": []
   },
   "outputs": [],
   "source": [
    "movie_data_v1 = pd.read_csv(r\"C:\\Users\\edwar\\Desktop\\Melbourne\\semester1\\elements_of_data_processing\\assignment2\\movie_data_intactversion.csv\")"
   ]
  },
  {
   "cell_type": "code",
   "execution_count": 3,
   "id": "c76d8b53-e410-4581-bcf3-caa6bb2cd6d4",
   "metadata": {
    "tags": []
   },
   "outputs": [],
   "source": [
    "# take three types of age certifications (R, NC-17, TV-Y7) of movie\n",
    "movie_data_3age = movie_data_v1[movie_data_v1['age_certification'].isin(['R', 'NC-17', 'TV-Y7'])].reset_index().drop(['index'], axis = 1).iloc[:, :6]\n",
    "movie_data_3age = movie_data_3age[movie_data_3age['tmdb_popularity'].isna() == False].reset_index().drop(['index'], axis = 1)\n",
    "movie_data_3age['tmdb_popularity_adj'] = np.log2(movie_data_3age['tmdb_popularity'])\n",
    "movie_data_3age['genres'] = movie_data_3age['genres'].astype('string')"
   ]
  },
  {
   "cell_type": "code",
   "execution_count": 4,
   "id": "6a8e54db-20c5-4308-b822-179791fe1f91",
   "metadata": {
    "tags": []
   },
   "outputs": [],
   "source": [
    "# see the freqeucy for genres\n",
    "movie_data_3age_v1 = movie_data_3age.copy()\n",
    "movie_data_3age_v1['genres'] = movie_data_3age_v1['genres'].apply(lambda x : eval(x))\n",
    "genres_freq_dict = {}\n",
    "for genre_lst in list(movie_data_3age_v1['genres']):\n",
    "    for genre in genre_lst:\n",
    "        if genres_freq_dict.get(genre) == None:\n",
    "            genres_freq_dict[genre] = 1\n",
    "        else:\n",
    "            genres_freq_dict[genre] += 1"
   ]
  },
  {
   "cell_type": "code",
   "execution_count": 5,
   "id": "2a3ab9ed-56d1-44f4-a49e-d791555645e3",
   "metadata": {
    "tags": []
   },
   "outputs": [
    {
     "data": {
      "text/plain": [
       "{'drama': 366,\n",
       " 'crime': 177,\n",
       " 'action': 256,\n",
       " 'thriller': 277,\n",
       " 'european': 70,\n",
       " 'comedy': 262,\n",
       " 'romance': 78,\n",
       " 'documentation': 62,\n",
       " 'war': 37,\n",
       " 'music': 28,\n",
       " 'horror': 86,\n",
       " 'scifi': 111,\n",
       " 'animation': 109,\n",
       " 'fantasy': 95,\n",
       " 'family': 89,\n",
       " 'western': 16,\n",
       " 'history': 29,\n",
       " 'sport': 19,\n",
       " 'reality': 2}"
      ]
     },
     "execution_count": 5,
     "metadata": {},
     "output_type": "execute_result"
    }
   ],
   "source": [
    "# drama, action, thriller, and comedy\n",
    "genres_freq_dict"
   ]
  },
  {
   "cell_type": "code",
   "execution_count": 6,
   "id": "33929770-2ea1-4e5c-a429-dee273c9b9e3",
   "metadata": {
    "tags": []
   },
   "outputs": [
    {
     "data": {
      "text/plain": [
       "R        556\n",
       "TV-Y7    119\n",
       "NC-17     16\n",
       "Name: age_certification, dtype: int64"
      ]
     },
     "execution_count": 6,
     "metadata": {},
     "output_type": "execute_result"
    }
   ],
   "source": [
    "# see the number of instances for each indicated age certification\n",
    "movie_data_3age['age_certification'].value_counts()"
   ]
  },
  {
   "cell_type": "code",
   "execution_count": 7,
   "id": "1981443a-0aea-4b1b-bb21-86e4279df138",
   "metadata": {
    "tags": []
   },
   "outputs": [],
   "source": [
    "movie_data_3age['genres'] = movie_data_3age['genres'].apply(lambda x : str(x))\n",
    "movie_data_3age['genres'] = movie_data_3age['genres'].apply(lambda x : x.replace('[', '').replace(']', ''))\n",
    "movie_data_3age = movie_data_3age[movie_data_3age['genres'] != ''].reset_index().drop(['index'], axis = 1)"
   ]
  },
  {
   "cell_type": "code",
   "execution_count": 8,
   "id": "76684aad-cc4a-492c-967b-5b57be854694",
   "metadata": {
    "tags": []
   },
   "outputs": [
    {
     "name": "stdout",
     "output_type": "stream",
     "text": [
      "322 169 262 169\n",
      "12 9 7 4\n",
      "32 78 8 89\n"
     ]
    }
   ],
   "source": [
    "movie_R_drama = movie_data_3age.loc[(movie_data_3age['age_certification'] == 'R') & ((movie_data_3age['genres'].str.contains('drama')))].reset_index().drop(['index'], axis = 1)\n",
    "movie_R_action = movie_data_3age.loc[(movie_data_3age['age_certification'] == 'R') & ((movie_data_3age['genres'].str.contains('action')))].reset_index().drop(['index'], axis = 1)\n",
    "movie_R_thriller = movie_data_3age.loc[(movie_data_3age['age_certification'] == 'R') & ((movie_data_3age['genres'].str.contains('thriller')))].reset_index().drop(['index'], axis = 1)\n",
    "movie_R_comedy = movie_data_3age.loc[(movie_data_3age['age_certification'] == 'R') & ((movie_data_3age['genres'].str.contains('comedy')))].reset_index().drop(['index'], axis = 1)\n",
    "print(len(movie_R_drama), len(movie_R_action), len(movie_R_thriller), len(movie_R_comedy))\n",
    "\n",
    "movie_NC_drama = movie_data_3age.loc[(movie_data_3age['age_certification'] == 'NC-17') & ((movie_data_3age['genres'].str.contains('drama')))].reset_index().drop(['index'], axis = 1)\n",
    "movie_NC_action = movie_data_3age.loc[(movie_data_3age['age_certification'] == 'NC-17') & ((movie_data_3age['genres'].str.contains('action')))].reset_index().drop(['index'], axis = 1)\n",
    "movie_NC_thriller = movie_data_3age.loc[(movie_data_3age['age_certification'] == 'NC-17') & ((movie_data_3age['genres'].str.contains('thriller')))].reset_index().drop(['index'], axis = 1)\n",
    "movie_NC_comedy = movie_data_3age.loc[(movie_data_3age['age_certification'] == 'NC-17') & ((movie_data_3age['genres'].str.contains('comedy')))].reset_index().drop(['index'], axis = 1)\n",
    "print(len(movie_NC_drama), len(movie_NC_action), len(movie_NC_thriller), len(movie_NC_comedy))\n",
    "\n",
    "movie_Y7_drama = movie_data_3age.loc[(movie_data_3age['age_certification'] == 'TV-Y7') & ((movie_data_3age['genres'].str.contains('drama')))].reset_index().drop(['index'], axis = 1)\n",
    "movie_Y7_action = movie_data_3age.loc[(movie_data_3age['age_certification'] == 'TV-Y7') & ((movie_data_3age['genres'].str.contains('action')))].reset_index().drop(['index'], axis = 1)\n",
    "movie_Y7_thriller = movie_data_3age.loc[(movie_data_3age['age_certification'] == 'TV-Y7') & ((movie_data_3age['genres'].str.contains('thriller')))].reset_index().drop(['index'], axis = 1)\n",
    "movie_Y7_comedy = movie_data_3age.loc[(movie_data_3age['age_certification'] == 'TV-Y7') & ((movie_data_3age['genres'].str.contains('comedy')))].reset_index().drop(['index'], axis = 1)\n",
    "print(len(movie_Y7_drama), len(movie_Y7_action), len(movie_Y7_thriller), len(movie_Y7_comedy))"
   ]
  },
  {
   "cell_type": "code",
   "execution_count": 9,
   "id": "d68dab5a-cfc8-448f-8068-6e94eb83a77c",
   "metadata": {
    "tags": []
   },
   "outputs": [],
   "source": [
    "def age_popu(df):\n",
    "    return np.array(df['tmdb_popularity_adj'])\n",
    "drama_R = age_popu(movie_R_drama)\n",
    "action_R = age_popu(movie_R_action)\n",
    "thriller_R = age_popu(movie_R_thriller)\n",
    "comedy_R = age_popu(movie_R_comedy)\n",
    "\n",
    "drama_NC = age_popu(movie_NC_drama)\n",
    "action_NC = age_popu(movie_NC_action)\n",
    "thriller_NC = age_popu(movie_NC_thriller)\n",
    "comedy_NC = age_popu(movie_NC_comedy)\n",
    "\n",
    "drama_Y7 = age_popu(movie_Y7_drama)\n",
    "action_Y7 = age_popu(movie_Y7_action)\n",
    "thriller_Y7 = age_popu(movie_Y7_thriller)\n",
    "comedy_Y7 = age_popu(movie_Y7_comedy)"
   ]
  },
  {
   "cell_type": "code",
   "execution_count": 10,
   "id": "4807b603-8e52-4dac-b47b-d50cfa69fc8e",
   "metadata": {
    "tags": []
   },
   "outputs": [
    {
     "name": "stdout",
     "output_type": "stream",
     "text": [
      "F-test outcomes: p-value = 4.202208311212737e-07\n"
     ]
    }
   ],
   "source": [
    "f_statistic, p_value = stats.f_oneway(drama_R, action_R, thriller_R, comedy_R, drama_NC, action_NC, thriller_NC, comedy_NC, \n",
    "                                     drama_Y7, action_Y7, thriller_Y7, comedy_Y7)\n",
    "print('F-test outcomes: p-value = {}'.format(p_value))"
   ]
  },
  {
   "cell_type": "code",
   "execution_count": 11,
   "id": "6668d0e9-6cbd-4aab-8870-e8fd3a6e6517",
   "metadata": {
    "tags": []
   },
   "outputs": [],
   "source": [
    "tukey_results = tukey_hsd(drama_R, action_R, thriller_R, comedy_R, drama_NC, action_NC, thriller_NC, comedy_NC, \n",
    "                                     drama_Y7, action_Y7, thriller_Y7, comedy_Y7)"
   ]
  },
  {
   "cell_type": "code",
   "execution_count": 16,
   "id": "1b1f8cc9-545c-4c3a-aeb2-b61dee3c1b78",
   "metadata": {
    "tags": []
   },
   "outputs": [
    {
     "name": "stdout",
     "output_type": "stream",
     "text": [
      "4.190541445995166 4.571680670590645 4.395676338983441 3.6017443663656428\n",
      "4.480844591855159 3.935305221277528 3.667050437766228 1.9147268112353841\n",
      "4.34581230137588 3.9015557356042585 3.7290223611500437 3.9046586993899983\n"
     ]
    }
   ],
   "source": [
    "print(drama_R.mean(), action_R.mean(), thriller_R.mean(), comedy_R.mean())\n",
    "print(drama_NC.mean(), action_NC.mean(), thriller_NC.mean(), comedy_NC.mean())\n",
    "print(drama_Y7.mean(), action_Y7.mean(), thriller_Y7.mean(), comedy_Y7.mean())"
   ]
  },
  {
   "cell_type": "code",
   "execution_count": 13,
   "id": "d801ed65-a0e4-48d8-8d26-f70a9f3e9969",
   "metadata": {
    "tags": []
   },
   "outputs": [
    {
     "name": "stdout",
     "output_type": "stream",
     "text": [
      "Tukey's HSD Pairwise Group Comparisons (95.0% Confidence Interval)\n",
      "Comparison  Statistic  p-value  Lower CI  Upper CI\n",
      " (0 - 1)     -0.381     0.339    -0.880     0.117\n",
      " (0 - 2)     -0.205     0.930    -0.642     0.232\n",
      " (0 - 3)      0.589     0.006     0.090     1.087\n",
      " (0 - 4)     -0.290     1.000    -1.833     1.253\n",
      " (0 - 5)      0.255     1.000    -1.519     2.029\n",
      " (0 - 6)      0.523     0.999    -1.482     2.529\n",
      " (0 - 7)      2.276     0.172    -0.365     4.916\n",
      " (0 - 8)     -0.155     1.000    -1.128     0.818\n",
      " (0 - 9)      0.289     0.958    -0.373     0.951\n",
      " (0 - 10)      0.462     1.000    -1.417     2.340\n",
      " (0 - 11)      0.286     0.943    -0.343     0.914\n",
      " (1 - 0)      0.381     0.339    -0.117     0.880\n",
      " (1 - 2)      0.176     0.994    -0.342     0.694\n",
      " (1 - 3)      0.970     0.000     0.399     1.541\n",
      " (1 - 4)      0.091     1.000    -1.477     1.659\n",
      " (1 - 5)      0.636     0.992    -1.159     2.432\n",
      " (1 - 6)      0.905     0.950    -1.120     2.929\n",
      " (1 - 7)      2.657     0.050     0.002     5.312\n",
      " (1 - 8)      0.226     1.000    -0.786     1.238\n",
      " (1 - 9)      0.670     0.095    -0.048     1.389\n",
      " (1 - 10)      0.843     0.952    -1.056     2.742\n",
      " (1 - 11)      0.667     0.067    -0.020     1.354\n",
      " (2 - 0)      0.205     0.930    -0.232     0.642\n",
      " (2 - 1)     -0.176     0.994    -0.694     0.342\n",
      " (2 - 3)      0.794     0.000     0.276     1.312\n",
      " (2 - 4)     -0.085     1.000    -1.635     1.464\n",
      " (2 - 5)      0.460     1.000    -1.319     2.240\n",
      " (2 - 6)      0.729     0.990    -1.281     2.739\n",
      " (2 - 7)      2.481     0.090    -0.163     5.125\n",
      " (2 - 8)      0.050     1.000    -0.933     1.033\n",
      " (2 - 9)      0.494     0.413    -0.183     1.171\n",
      " (2 - 10)      0.667     0.992    -1.217     2.550\n",
      " (2 - 11)      0.491     0.343    -0.153     1.135\n",
      " (3 - 0)     -0.589     0.006    -1.087    -0.090\n",
      " (3 - 1)     -0.970     0.000    -1.541    -0.399\n",
      " (3 - 2)     -0.794     0.000    -1.312    -0.276\n",
      " (3 - 4)     -0.879     0.798    -2.447     0.689\n",
      " (3 - 5)     -0.334     1.000    -2.129     1.462\n",
      " (3 - 6)     -0.065     1.000    -2.090     1.959\n",
      " (3 - 7)      1.687     0.637    -0.968     4.342\n",
      " (3 - 8)     -0.744     0.401    -1.756     0.268\n",
      " (3 - 9)     -0.300     0.970    -1.018     0.419\n",
      " (3 - 10)     -0.127     1.000    -2.026     1.772\n",
      " (3 - 11)     -0.303     0.955    -0.990     0.384\n",
      " (4 - 0)      0.290     1.000    -1.253     1.833\n",
      " (4 - 1)     -0.091     1.000    -1.659     1.477\n",
      " (4 - 2)      0.085     1.000    -1.464     1.635\n",
      " (4 - 3)      0.879     0.798    -0.689     2.447\n",
      " (4 - 5)      0.546     1.000    -1.769     2.860\n",
      " (4 - 6)      0.814     0.996    -1.682     3.310\n",
      " (4 - 7)      2.566     0.193    -0.464     5.596\n",
      " (4 - 8)      0.135     1.000    -1.642     1.912\n",
      " (4 - 9)      0.579     0.991    -1.048     2.207\n",
      " (4 - 10)      0.752     0.997    -1.644     3.147\n",
      " (4 - 11)      0.576     0.991    -1.038     2.190\n",
      " (5 - 0)     -0.255     1.000    -2.029     1.519\n",
      " (5 - 1)     -0.636     0.992    -2.432     1.159\n",
      " (5 - 2)     -0.460     1.000    -2.240     1.319\n",
      " (5 - 3)      0.334     1.000    -1.462     2.129\n",
      " (5 - 4)     -0.546     1.000    -2.860     1.769\n",
      " (5 - 6)      0.268     1.000    -2.377     2.913\n",
      " (5 - 7)      2.021     0.624    -1.133     5.174\n",
      " (5 - 8)     -0.411     1.000    -2.391     1.570\n",
      " (5 - 9)      0.034     1.000    -1.814     1.881\n",
      " (5 - 10)      0.206     1.000    -2.344     2.757\n",
      " (5 - 11)      0.031     1.000    -1.805     1.866\n",
      " (6 - 0)     -0.523     0.999    -2.529     1.482\n",
      " (6 - 1)     -0.905     0.950    -2.929     1.120\n",
      " (6 - 2)     -0.729     0.990    -2.739     1.281\n",
      " (6 - 3)      0.065     1.000    -1.959     2.090\n",
      " (6 - 4)     -0.814     0.996    -3.310     1.682\n",
      " (6 - 5)     -0.268     1.000    -2.913     2.377\n",
      " (6 - 7)      1.752     0.847    -1.537     5.042\n",
      " (6 - 8)     -0.679     0.997    -2.869     1.511\n",
      " (6 - 9)     -0.235     1.000    -2.305     1.836\n",
      " (6 - 10)     -0.062     1.000    -2.778     2.654\n",
      " (6 - 11)     -0.238     1.000    -2.298     1.823\n",
      " (7 - 0)     -2.276     0.172    -4.916     0.365\n",
      " (7 - 1)     -2.657     0.050    -5.312    -0.002\n",
      " (7 - 2)     -2.481     0.090    -5.125     0.163\n",
      " (7 - 3)     -1.687     0.637    -4.342     0.968\n",
      " (7 - 4)     -2.566     0.193    -5.596     0.464\n",
      " (7 - 5)     -2.021     0.624    -5.174     1.133\n",
      " (7 - 6)     -1.752     0.847    -5.042     1.537\n",
      " (7 - 8)     -2.431     0.157    -5.214     0.352\n",
      " (7 - 9)     -1.987     0.394    -4.677     0.704\n",
      " (7 - 10)     -1.814     0.790    -5.028     1.400\n",
      " (7 - 11)     -1.990     0.387    -4.672     0.693\n",
      " (8 - 0)      0.155     1.000    -0.818     1.128\n",
      " (8 - 1)     -0.226     1.000    -1.238     0.786\n",
      " (8 - 2)     -0.050     1.000    -1.033     0.933\n",
      " (8 - 3)      0.744     0.401    -0.268     1.756\n",
      " (8 - 4)     -0.135     1.000    -1.912     1.642\n",
      " (8 - 5)      0.411     1.000    -1.570     2.391\n",
      " (8 - 6)      0.679     0.997    -1.511     2.869\n",
      " (8 - 7)      2.431     0.157    -0.352     5.214\n",
      " (8 - 9)      0.444     0.976    -0.658     1.546\n",
      " (8 - 10)      0.617     0.998    -1.458     2.691\n",
      " (8 - 11)      0.441     0.974    -0.641     1.523\n",
      " (9 - 0)     -0.289     0.958    -0.951     0.373\n",
      " (9 - 1)     -0.670     0.095    -1.389     0.048\n",
      " (9 - 2)     -0.494     0.413    -1.171     0.183\n",
      " (9 - 3)      0.300     0.970    -0.419     1.018\n",
      " (9 - 4)     -0.579     0.991    -2.207     1.048\n",
      " (9 - 5)     -0.034     1.000    -1.881     1.814\n",
      " (9 - 6)      0.235     1.000    -1.836     2.305\n",
      " (9 - 7)      1.987     0.394    -0.704     4.677\n",
      " (9 - 8)     -0.444     0.976    -1.546     0.658\n",
      " (9 - 10)      0.173     1.000    -1.776     2.121\n",
      " (9 - 11)     -0.003     1.000    -0.817     0.811\n",
      " (10 - 0)     -0.462     1.000    -2.340     1.417\n",
      " (10 - 1)     -0.843     0.952    -2.742     1.056\n",
      " (10 - 2)     -0.667     0.992    -2.550     1.217\n",
      " (10 - 3)      0.127     1.000    -1.772     2.026\n",
      " (10 - 4)     -0.752     0.997    -3.147     1.644\n",
      " (10 - 5)     -0.206     1.000    -2.757     2.344\n",
      " (10 - 6)      0.062     1.000    -2.654     2.778\n",
      " (10 - 7)      1.814     0.790    -1.400     5.028\n",
      " (10 - 8)     -0.617     0.998    -2.691     1.458\n",
      " (10 - 9)     -0.173     1.000    -2.121     1.776\n",
      " (10 - 11)     -0.176     1.000    -2.113     1.762\n",
      " (11 - 0)     -0.286     0.943    -0.914     0.343\n",
      " (11 - 1)     -0.667     0.067    -1.354     0.020\n",
      " (11 - 2)     -0.491     0.343    -1.135     0.153\n",
      " (11 - 3)      0.303     0.955    -0.384     0.990\n",
      " (11 - 4)     -0.576     0.991    -2.190     1.038\n",
      " (11 - 5)     -0.031     1.000    -1.866     1.805\n",
      " (11 - 6)      0.238     1.000    -1.823     2.298\n",
      " (11 - 7)      1.990     0.387    -0.693     4.672\n",
      " (11 - 8)     -0.441     0.974    -1.523     0.641\n",
      " (11 - 9)      0.003     1.000    -0.811     0.817\n",
      " (11 - 10)      0.176     1.000    -1.762     2.113\n",
      "\n"
     ]
    }
   ],
   "source": [
    "# 0-3, 1-3, 1-7, 2-3\n",
    "print(tukey_results)"
   ]
  },
  {
   "cell_type": "code",
   "execution_count": null,
   "id": "20f22db1-1fb3-4a2e-8751-be42828d47a6",
   "metadata": {},
   "outputs": [],
   "source": []
  }
 ],
 "metadata": {
  "kernelspec": {
   "display_name": "Python 3 (ipykernel)",
   "language": "python",
   "name": "python3"
  },
  "language_info": {
   "codemirror_mode": {
    "name": "ipython",
    "version": 3
   },
   "file_extension": ".py",
   "mimetype": "text/x-python",
   "name": "python",
   "nbconvert_exporter": "python",
   "pygments_lexer": "ipython3",
   "version": "3.10.9"
  }
 },
 "nbformat": 4,
 "nbformat_minor": 5
}
